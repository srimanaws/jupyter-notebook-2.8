{
 "cells": [
  {
   "cell_type": "code",
   "execution_count": null,
   "id": "5e460ca4-5b67-4ea2-a680-30e6f06ae565",
   "metadata": {},
   "outputs": [],
   "source": [
    "# Exercise 8.9 by sriman\n",
    "import itertools\n",
    "\n",
    "# Get a five-letter word from the user\n",
    "word = input(\"Please enter a five-letter word: \")\n",
    "\n",
    "# Generate all unique three-letter combinations\n",
    "three_letter_words = set(''.join(combination) for combination in itertools.permutations(word, 3))\n",
    "\n",
    "# Show the results\n",
    "print(\"Here are the three-letter combinations from your word:\", ', '.join(sorted(three_letter_words)))\n"
   ]
  },
  {
   "cell_type": "code",
   "execution_count": null,
   "id": "28348b45-d1cc-4155-9d76-fcc722be6f47",
   "metadata": {},
   "outputs": [],
   "source": []
  }
 ],
 "metadata": {
  "kernelspec": {
   "display_name": "Python 3 (ipykernel)",
   "language": "python",
   "name": "python3"
  },
  "language_info": {
   "codemirror_mode": {
    "name": "ipython",
    "version": 3
   },
   "file_extension": ".py",
   "mimetype": "text/x-python",
   "name": "python",
   "nbconvert_exporter": "python",
   "pygments_lexer": "ipython3",
   "version": "3.12.4"
  }
 },
 "nbformat": 4,
 "nbformat_minor": 5
}
