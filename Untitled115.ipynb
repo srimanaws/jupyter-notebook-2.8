{
 "cells": [
  {
   "cell_type": "code",
   "execution_count": 1,
   "id": "ca5a92d4-4f02-4c7e-9810-c4769beac469",
   "metadata": {},
   "outputs": [
    {
     "name": "stdin",
     "output_type": "stream",
     "text": [
      "Enter a grade (or -1 to finish):  45\n",
      "Enter a grade (or -1 to finish):  87\n",
      "Enter a grade (or -1 to finish):  95\n",
      "Enter a grade (or -1 to finish):  65\n",
      "Enter a grade (or -1 to finish):  -1\n"
     ]
    },
    {
     "name": "stdout",
     "output_type": "stream",
     "text": [
      "Total of all grades: 292\n",
      "Average grade: 73.0\n"
     ]
    }
   ],
   "source": [
    "# Exercise 9.1 by sriman\n",
    "def write_grades():\n",
    "    # Open or create a text file to save the grades\n",
    "    with open('grades.txt', 'w') as file:\n",
    "        total = 0\n",
    "        count = 0\n",
    "        \n",
    "        while True:\n",
    "            # Ask for grades one at a time\n",
    "            grade = input(\"Enter a grade (or -1 to finish): \")\n",
    "            if grade == '-1':  # This is our stop signal\n",
    "                break\n",
    "            grade = int(grade)\n",
    "            total += grade  # Keep adding to the total\n",
    "            count += 1  # Keep count of how many grades are entered\n",
    "            \n",
    "            # Write the grade to the file\n",
    "            file.write(f\"{grade}\\n\")\n",
    "        \n",
    "        # Print out the total and average of all the grades\n",
    "        print(f\"Total of all grades: {total}\")\n",
    "        print(f\"Average grade: {total / count if count > 0 else 0}\")\n",
    "\n",
    "write_grades()\n"
   ]
  },
  {
   "cell_type": "code",
   "execution_count": null,
   "id": "c8691790-455f-41ba-8b3f-a460fcbd97d8",
   "metadata": {},
   "outputs": [],
   "source": []
  }
 ],
 "metadata": {
  "kernelspec": {
   "display_name": "Python 3 (ipykernel)",
   "language": "python",
   "name": "python3"
  },
  "language_info": {
   "codemirror_mode": {
    "name": "ipython",
    "version": 3
   },
   "file_extension": ".py",
   "mimetype": "text/x-python",
   "name": "python",
   "nbconvert_exporter": "python",
   "pygments_lexer": "ipython3",
   "version": "3.12.4"
  }
 },
 "nbformat": 4,
 "nbformat_minor": 5
}
